{
 "cells": [
  {
   "cell_type": "markdown",
   "metadata": {},
   "source": [
    "# Portland Neighborhood Analysis"
   ]
  },
  {
   "cell_type": "markdown",
   "metadata": {},
   "source": [
    "### Problem\n",
    "Choosing the right neighborhood to buy a house in can be difficult, with an overwhelming array of features and locations to choose from within an urban area. To narrow it down, we can use Foursquare and other data sources to locate the amenities we care about and find neighborhoods with the right mix of services for our personal preferences. This analysis would be of interest to anyone looking to choose a neighborhood in which to buy a house, as well as real estate professionals trying to help their clients choose the right neighborhood.\n",
    "\n",
    "When I was looking to buy a house in Portland, Oregon, I was new to the city and didn't know much about the neighborhoods. I looked at data from the Census Bureau, local schools, and other sources to choose a few neighborhoods, and then went to Google maps to figure out if those neighborhoods had the amenities that were important to me (e.g. grocery stores, etc.) This research process was time consuming and somewhat arbitrary, so this project will create a more systematic process for narrowing the search for the right house in the right neighborhood, using Portland as an example."
   ]
  },
  {
   "cell_type": "markdown",
   "metadata": {},
   "source": [
    "### Data\n",
    "The data sources for this project include business location data from Foursquare, Census data, and the Mapquest geocoding API. \n",
    "\n",
    "I use Census data to define the neighborhoods in the Portland region and obtain some basic information like population density and average housing values. The neighborhoods will be based on census tracts in order to take advantage of the wide variety of data available in the Census American Community Survey. The Census Bureau provides lat/long data for the center of population for each tract, available here: <a href=\"https://www.census.gov/geographies/reference-files/2010/geo/2010-centers-population.html\" target=\"_blank\">Centers of Population for the 2010 Census</a>. Other attributes are obtained from the Census American Community Survey API and TIGER/Line files.\n",
    "\n",
    "Using the Foursqaure API, I find the locations of the types of businesses that I would like to have within walking distance in my neighborhood. My preferences for a neighborhood include some essential services like grocery stores, a library, a hardware store, and some restaurants. Someone else might prefer different amenities, like bars and boutique shops, in their ideal neighborhood so this approach could be customized for different preferences. The Foursquare data are summarized into counts of each business type within a certain radius of the neighborhood center. \n",
    "\n",
    "Clustering the neighborhoods into groups that have a similar mix of Census and Foursquare attributes will help narrow the search for the right location. The cluster results are mapped for further exploration of the neighborhoods. The Mapquest API is used to obtain the zip code for each of the tract centers, so that the map of clustered neighborhoods can provide direct links to homes for sale in that neighborhood zip code on Zillow."
   ]
  }
 ],
 "metadata": {
  "kernelspec": {
   "display_name": "Python 3",
   "language": "python",
   "name": "python3"
  },
  "language_info": {
   "codemirror_mode": {
    "name": "ipython",
    "version": 3
   },
   "file_extension": ".py",
   "mimetype": "text/x-python",
   "name": "python",
   "nbconvert_exporter": "python",
   "pygments_lexer": "ipython3",
   "version": "3.7.4"
  }
 },
 "nbformat": 4,
 "nbformat_minor": 4
}
